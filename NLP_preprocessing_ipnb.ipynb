{
  "nbformat": 4,
  "nbformat_minor": 0,
  "metadata": {
    "colab": {
      "name": "NLP_preprocessing.ipnb",
      "provenance": []
    },
    "kernelspec": {
      "name": "python3",
      "display_name": "Python 3"
    }
  },
  "cells": [
    {
      "cell_type": "code",
      "metadata": {
        "id": "4p6qvMX6Oqru",
        "colab_type": "code",
        "colab": {}
      },
      "source": [
        "import nltk"
      ],
      "execution_count": 42,
      "outputs": []
    },
    {
      "cell_type": "code",
      "metadata": {
        "id": "iXDQAMnbO7Xv",
        "colab_type": "code",
        "colab": {}
      },
      "source": [
        "from nltk.stem import PorterStemmer\n",
        "from nltk.corpus import stopwords"
      ],
      "execution_count": 43,
      "outputs": []
    },
    {
      "cell_type": "code",
      "metadata": {
        "id": "i12TPSpTQg3o",
        "colab_type": "code",
        "colab": {
          "base_uri": "https://localhost:8080/",
          "height": 134
        },
        "outputId": "ff6eac2a-7d57-4ab1-abd1-d4bb499faa9f"
      },
      "source": [
        "nltk.download('punkt')\n",
        "nltk.download('stopwords')\n",
        "nltk.download('wordnet')"
      ],
      "execution_count": 44,
      "outputs": [
        {
          "output_type": "stream",
          "text": [
            "[nltk_data] Downloading package punkt to /root/nltk_data...\n",
            "[nltk_data]   Package punkt is already up-to-date!\n",
            "[nltk_data] Downloading package stopwords to /root/nltk_data...\n",
            "[nltk_data]   Package stopwords is already up-to-date!\n",
            "[nltk_data] Downloading package wordnet to /root/nltk_data...\n",
            "[nltk_data]   Package wordnet is already up-to-date!\n"
          ],
          "name": "stdout"
        },
        {
          "output_type": "execute_result",
          "data": {
            "text/plain": [
              "True"
            ]
          },
          "metadata": {
            "tags": []
          },
          "execution_count": 44
        }
      ]
    },
    {
      "cell_type": "code",
      "metadata": {
        "id": "Ad9sJuDZPP5p",
        "colab_type": "code",
        "colab": {}
      },
      "source": [
        "paragraph = \"\"\"First of all, Iyadurai Solomon. He was Abdul Kalam’s teacher. The relationship between them was very strong. This teacher influenced Abdul Kalam’s thoughts very much. It was he who taught him, “To succeed in life and achieve results, you must understand and master three mighty forces—desire, belief and expectation.”\n",
        "\n",
        "Iyadurai Solomon was a great teacher because he instilled in all the children a sense of their own worth. It was he who inspired Abdul Kalam saying that “With faith, you can change your destiny.” Thus Abdul Kalam began to aspire for greater things in life.\n",
        "\n",
        "He believed with all his heart that he too can make an impact on society even though his parents did not have the benefit of education. Abdul Kalam who was always fascinated by the mysteries of the sky and the flight of birds from early childhood, because of the influence of Iyadurai Solomon, began to dream of soaring up into the skies. And he became the first child from Rameswaram to fly.\n",
        "\n",
        "Decades later, when Abdul Kalam went to Madurai Kamaraj University to deliver their convocation address, his beloved school teacher Rev. Iyadurai Solomon was on the dias. After his lecture, Abdul Kalam bowed before him and said,\n",
        "\n",
        "“Great dreams of dreamers are always transcended.” He, in turn, replied in a voice choked with emotion, “You have not only reached my goals, Kalam! You have eclipsed them.”\n",
        "\n",
        "Another person who influenced Abdul Kalam greatly was Dr. Vikram Sarabhai. Dr. Sarabhai, when interviewing Abdul Kalam for the post of rocket engineer, was one of the first persons to see the possibilities that were lying hidden in Abdul Kalam. He saw Abdul Kalam fit into a larger picture.\n",
        "\n",
        "The whole interview came to Abdul Kalam as a total moment of truth where his dream was enveloped by the larger dream of a bigger person. The rest of the story is how Abdul Kalam became the missile man of India, inspired and ignited by the great visionary scientist Dr. Vikram Sarabhai.\n",
        "\n",
        "Let me conclude by saying that great dreamers like Abdul Kalam had people influencing him positively in life. But Abdul Kalam’s genius was that he did not try to hold on to dreams selfishly. Instead he burned out staying active till his last breath and spreading the inspiration to dream to all.\"\"\""
      ],
      "execution_count": 45,
      "outputs": []
    },
    {
      "cell_type": "code",
      "metadata": {
        "id": "5vkpX-lIQAYD",
        "colab_type": "code",
        "colab": {}
      },
      "source": [
        "sentences = nltk.sent_tokenize(paragraph)\n",
        "ps = PorterStemmer()"
      ],
      "execution_count": 46,
      "outputs": []
    },
    {
      "cell_type": "code",
      "metadata": {
        "id": "oOL-NFdCQXJ2",
        "colab_type": "code",
        "colab": {
          "base_uri": "https://localhost:8080/",
          "height": 34
        },
        "outputId": "f0505de6-6928-4dd2-da89-5b986d0595e1"
      },
      "source": [
        "len(sentences)"
      ],
      "execution_count": 47,
      "outputs": [
        {
          "output_type": "execute_result",
          "data": {
            "text/plain": [
              "20"
            ]
          },
          "metadata": {
            "tags": []
          },
          "execution_count": 47
        }
      ]
    },
    {
      "cell_type": "code",
      "metadata": {
        "id": "ItZjTHuiRt0j",
        "colab_type": "code",
        "colab": {
          "base_uri": "https://localhost:8080/",
          "height": 373
        },
        "outputId": "4c6710a4-96e0-4883-e379-48c0190c623e"
      },
      "source": [
        "sentences"
      ],
      "execution_count": 48,
      "outputs": [
        {
          "output_type": "execute_result",
          "data": {
            "text/plain": [
              "['First of all, Iyadurai Solomon.',\n",
              " 'He was Abdul Kalam’s teacher.',\n",
              " 'The relationship between them was very strong.',\n",
              " 'This teacher influenced Abdul Kalam’s thoughts very much.',\n",
              " 'It was he who taught him, “To succeed in life and achieve results, you must understand and master three mighty forces—desire, belief and expectation.”\\n\\nIyadurai Solomon was a great teacher because he instilled in all the children a sense of their own worth.',\n",
              " 'It was he who inspired Abdul Kalam saying that “With faith, you can change your destiny.” Thus Abdul Kalam began to aspire for greater things in life.',\n",
              " 'He believed with all his heart that he too can make an impact on society even though his parents did not have the benefit of education.',\n",
              " 'Abdul Kalam who was always fascinated by the mysteries of the sky and the flight of birds from early childhood, because of the influence of Iyadurai Solomon, began to dream of soaring up into the skies.',\n",
              " 'And he became the first child from Rameswaram to fly.',\n",
              " 'Decades later, when Abdul Kalam went to Madurai Kamaraj University to deliver their convocation address, his beloved school teacher Rev.',\n",
              " 'Iyadurai Solomon was on the dias.',\n",
              " 'After his lecture, Abdul Kalam bowed before him and said,\\n\\n“Great dreams of dreamers are always transcended.” He, in turn, replied in a voice choked with emotion, “You have not only reached my goals, Kalam!',\n",
              " 'You have eclipsed them.”\\n\\nAnother person who influenced Abdul Kalam greatly was Dr. Vikram Sarabhai.',\n",
              " 'Dr. Sarabhai, when interviewing Abdul Kalam for the post of rocket engineer, was one of the first persons to see the possibilities that were lying hidden in Abdul Kalam.',\n",
              " 'He saw Abdul Kalam fit into a larger picture.',\n",
              " 'The whole interview came to Abdul Kalam as a total moment of truth where his dream was enveloped by the larger dream of a bigger person.',\n",
              " 'The rest of the story is how Abdul Kalam became the missile man of India, inspired and ignited by the great visionary scientist Dr. Vikram Sarabhai.',\n",
              " 'Let me conclude by saying that great dreamers like Abdul Kalam had people influencing him positively in life.',\n",
              " 'But Abdul Kalam’s genius was that he did not try to hold on to dreams selfishly.',\n",
              " 'Instead he burned out staying active till his last breath and spreading the inspiration to dream to all.']"
            ]
          },
          "metadata": {
            "tags": []
          },
          "execution_count": 48
        }
      ]
    },
    {
      "cell_type": "code",
      "metadata": {
        "id": "zVq4ylF6Qo8s",
        "colab_type": "code",
        "colab": {}
      },
      "source": [
        "#stemming\n",
        "for i in range(len(sentences)):\n",
        "  words = nltk.word_tokenize(sentences[i])\n",
        "  words = [ps.stem(word) for word in words if word not in set(stopwords.words('english'))]\n",
        "  sentences[i] = ' '.join(words)"
      ],
      "execution_count": 49,
      "outputs": []
    },
    {
      "cell_type": "code",
      "metadata": {
        "id": "Zbn8z_VXRdCh",
        "colab_type": "code",
        "colab": {
          "base_uri": "https://localhost:8080/",
          "height": 353
        },
        "outputId": "4c43c001-6111-4b29-afb2-a41a4c843d80"
      },
      "source": [
        "sentences"
      ],
      "execution_count": 50,
      "outputs": [
        {
          "output_type": "execute_result",
          "data": {
            "text/plain": [
              "['first , iyadurai solomon .',\n",
              " 'He abdul kalam ’ teacher .',\n",
              " 'the relationship strong .',\n",
              " 'thi teacher influenc abdul kalam ’ thought much .',\n",
              " 'It taught , “ To succeed life achiev result , must understand master three mighti forces—desir , belief expectation. ” iyadurai solomon great teacher instil children sens worth .',\n",
              " 'It inspir abdul kalam say “ with faith , chang destiny. ” thu abdul kalam began aspir greater thing life .',\n",
              " 'He believ heart make impact societi even though parent benefit educ .',\n",
              " 'abdul kalam alway fascin mysteri sky flight bird earli childhood , influenc iyadurai solomon , began dream soar sky .',\n",
              " 'and becam first child rameswaram fli .',\n",
              " 'decad later , abdul kalam went madurai kamaraj univers deliv convoc address , belov school teacher rev .',\n",
              " 'iyadurai solomon dia .',\n",
              " 'after lectur , abdul kalam bow said , “ great dream dreamer alway transcended. ” He , turn , repli voic choke emot , “ you reach goal , kalam !',\n",
              " 'you eclips them. ” anoth person influenc abdul kalam greatli dr. vikram sarabhai .',\n",
              " 'dr. sarabhai , interview abdul kalam post rocket engin , one first person see possibl lie hidden abdul kalam .',\n",
              " 'He saw abdul kalam fit larger pictur .',\n",
              " 'the whole interview came abdul kalam total moment truth dream envelop larger dream bigger person .',\n",
              " 'the rest stori abdul kalam becam missil man india , inspir ignit great visionari scientist dr. vikram sarabhai .',\n",
              " 'let conclud say great dreamer like abdul kalam peopl influenc posit life .',\n",
              " 'but abdul kalam ’ geniu tri hold dream selfishli .',\n",
              " 'instead burn stay activ till last breath spread inspir dream .']"
            ]
          },
          "metadata": {
            "tags": []
          },
          "execution_count": 50
        }
      ]
    },
    {
      "cell_type": "code",
      "metadata": {
        "id": "afzPp1WYRx9q",
        "colab_type": "code",
        "colab": {}
      },
      "source": [
        "from nltk.stem import WordNetLemmatizer\n",
        "lem = WordNetLemmatizer()"
      ],
      "execution_count": 51,
      "outputs": []
    },
    {
      "cell_type": "code",
      "metadata": {
        "id": "09g1t9auSc4w",
        "colab_type": "code",
        "colab": {}
      },
      "source": [
        "sent = nltk.sent_tokenize(paragraph)"
      ],
      "execution_count": 52,
      "outputs": []
    },
    {
      "cell_type": "code",
      "metadata": {
        "id": "O5wcl-ApS1MT",
        "colab_type": "code",
        "colab": {}
      },
      "source": [
        "#lemmatization\n",
        "for i in range(len(sent)):\n",
        "  words = nltk.word_tokenize(sent[i])\n",
        "  words = [lem.lemmatize(word) for word in words if word not in set(stopwords.words('english'))]\n",
        "  sent[i] = ' '.join"
      ],
      "execution_count": 53,
      "outputs": []
    },
    {
      "cell_type": "code",
      "metadata": {
        "id": "T2Kv6v3yTcHH",
        "colab_type": "code",
        "colab": {
          "base_uri": "https://localhost:8080/",
          "height": 353
        },
        "outputId": "3a26a197-0942-4a63-d5b5-5112f83d5a49"
      },
      "source": [
        "sent"
      ],
      "execution_count": 54,
      "outputs": [
        {
          "output_type": "execute_result",
          "data": {
            "text/plain": [
              "[<function str.join>,\n",
              " <function str.join>,\n",
              " <function str.join>,\n",
              " <function str.join>,\n",
              " <function str.join>,\n",
              " <function str.join>,\n",
              " <function str.join>,\n",
              " <function str.join>,\n",
              " <function str.join>,\n",
              " <function str.join>,\n",
              " <function str.join>,\n",
              " <function str.join>,\n",
              " <function str.join>,\n",
              " <function str.join>,\n",
              " <function str.join>,\n",
              " <function str.join>,\n",
              " <function str.join>,\n",
              " <function str.join>,\n",
              " <function str.join>,\n",
              " <function str.join>]"
            ]
          },
          "metadata": {
            "tags": []
          },
          "execution_count": 54
        }
      ]
    },
    {
      "cell_type": "markdown",
      "metadata": {
        "id": "6Jv7xvFqWsg0",
        "colab_type": "text"
      },
      "source": [
        "# **Cleaning the data**\n",
        "\n",
        "\n"
      ]
    },
    {
      "cell_type": "code",
      "metadata": {
        "id": "lu2_z0iKWy-q",
        "colab_type": "code",
        "colab": {}
      },
      "source": [
        "import re\n",
        "from nltk.stem import PorterStemmer\n",
        "from nltk.stem import WordNetLemmatizer\n",
        "from nltk.corpus import stopwords"
      ],
      "execution_count": 55,
      "outputs": []
    },
    {
      "cell_type": "code",
      "metadata": {
        "id": "h9-IGPplXV3l",
        "colab_type": "code",
        "colab": {}
      },
      "source": [
        "ps = PorterStemmer()\n",
        "lem = WordNetLemmatizer()"
      ],
      "execution_count": 56,
      "outputs": []
    },
    {
      "cell_type": "code",
      "metadata": {
        "id": "oEQbSw7JX1W2",
        "colab_type": "code",
        "colab": {}
      },
      "source": [
        "sentences = nltk.sent_tokenize(paragraph)"
      ],
      "execution_count": 57,
      "outputs": []
    },
    {
      "cell_type": "code",
      "metadata": {
        "id": "TLKARxSNX_wV",
        "colab_type": "code",
        "colab": {
          "base_uri": "https://localhost:8080/",
          "height": 373
        },
        "outputId": "21660fb1-afd9-4cd2-dfc2-107d76681ee4"
      },
      "source": [
        "sentences"
      ],
      "execution_count": 58,
      "outputs": [
        {
          "output_type": "execute_result",
          "data": {
            "text/plain": [
              "['First of all, Iyadurai Solomon.',\n",
              " 'He was Abdul Kalam’s teacher.',\n",
              " 'The relationship between them was very strong.',\n",
              " 'This teacher influenced Abdul Kalam’s thoughts very much.',\n",
              " 'It was he who taught him, “To succeed in life and achieve results, you must understand and master three mighty forces—desire, belief and expectation.”\\n\\nIyadurai Solomon was a great teacher because he instilled in all the children a sense of their own worth.',\n",
              " 'It was he who inspired Abdul Kalam saying that “With faith, you can change your destiny.” Thus Abdul Kalam began to aspire for greater things in life.',\n",
              " 'He believed with all his heart that he too can make an impact on society even though his parents did not have the benefit of education.',\n",
              " 'Abdul Kalam who was always fascinated by the mysteries of the sky and the flight of birds from early childhood, because of the influence of Iyadurai Solomon, began to dream of soaring up into the skies.',\n",
              " 'And he became the first child from Rameswaram to fly.',\n",
              " 'Decades later, when Abdul Kalam went to Madurai Kamaraj University to deliver their convocation address, his beloved school teacher Rev.',\n",
              " 'Iyadurai Solomon was on the dias.',\n",
              " 'After his lecture, Abdul Kalam bowed before him and said,\\n\\n“Great dreams of dreamers are always transcended.” He, in turn, replied in a voice choked with emotion, “You have not only reached my goals, Kalam!',\n",
              " 'You have eclipsed them.”\\n\\nAnother person who influenced Abdul Kalam greatly was Dr. Vikram Sarabhai.',\n",
              " 'Dr. Sarabhai, when interviewing Abdul Kalam for the post of rocket engineer, was one of the first persons to see the possibilities that were lying hidden in Abdul Kalam.',\n",
              " 'He saw Abdul Kalam fit into a larger picture.',\n",
              " 'The whole interview came to Abdul Kalam as a total moment of truth where his dream was enveloped by the larger dream of a bigger person.',\n",
              " 'The rest of the story is how Abdul Kalam became the missile man of India, inspired and ignited by the great visionary scientist Dr. Vikram Sarabhai.',\n",
              " 'Let me conclude by saying that great dreamers like Abdul Kalam had people influencing him positively in life.',\n",
              " 'But Abdul Kalam’s genius was that he did not try to hold on to dreams selfishly.',\n",
              " 'Instead he burned out staying active till his last breath and spreading the inspiration to dream to all.']"
            ]
          },
          "metadata": {
            "tags": []
          },
          "execution_count": 58
        }
      ]
    },
    {
      "cell_type": "code",
      "metadata": {
        "id": "v_YFFNp9YEAn",
        "colab_type": "code",
        "colab": {}
      },
      "source": [
        "#cleaning the data\n",
        "corpus = []\n",
        "for i in range(len(sentences)):\n",
        "  sentence = re.sub('[^a-zA-Z]', ' ', sentences[i])\n",
        "  sentence = sentence.lower()\n",
        "  words = sentence.split()\n",
        "  words = [ lem.lemmatize(word) for word in words if word not in set(stopwords.words('english')) ]\n",
        "  sent = ' '.join(words)\n",
        "  corpus.append(sent) "
      ],
      "execution_count": 59,
      "outputs": []
    },
    {
      "cell_type": "code",
      "metadata": {
        "id": "osHSuF6sg_an",
        "colab_type": "code",
        "colab": {}
      },
      "source": [
        "from sklearn.feature_extraction.text import CountVectorizer\n",
        "cv = CountVectorizer(max_features = 1500)\n",
        "X = cv.fit_transform(corpus).toarray()"
      ],
      "execution_count": 60,
      "outputs": []
    },
    {
      "cell_type": "code",
      "metadata": {
        "id": "pGJIP0gIiJHD",
        "colab_type": "code",
        "colab": {
          "base_uri": "https://localhost:8080/",
          "height": 134
        },
        "outputId": "4596b5d8-c547-46e8-8b9c-17c79b4af8bf"
      },
      "source": [
        "X"
      ],
      "execution_count": 61,
      "outputs": [
        {
          "output_type": "execute_result",
          "data": {
            "text/plain": [
              "array([[0, 0, 0, ..., 0, 0, 0],\n",
              "       [1, 0, 0, ..., 0, 0, 0],\n",
              "       [0, 0, 0, ..., 0, 0, 0],\n",
              "       ...,\n",
              "       [1, 0, 0, ..., 0, 0, 0],\n",
              "       [1, 0, 0, ..., 0, 0, 0],\n",
              "       [0, 0, 1, ..., 0, 0, 0]])"
            ]
          },
          "metadata": {
            "tags": []
          },
          "execution_count": 61
        }
      ]
    },
    {
      "cell_type": "code",
      "metadata": {
        "id": "hKy0mtuniPBX",
        "colab_type": "code",
        "colab": {}
      },
      "source": [
        ""
      ],
      "execution_count": 61,
      "outputs": []
    },
    {
      "cell_type": "code",
      "metadata": {
        "id": "ogjA05fgk-YQ",
        "colab_type": "code",
        "colab": {}
      },
      "source": [
        ""
      ],
      "execution_count": 61,
      "outputs": []
    },
    {
      "cell_type": "code",
      "metadata": {
        "id": "LS52gB7hk-bG",
        "colab_type": "code",
        "colab": {}
      },
      "source": [
        "import re\n",
        "from nltk.stem import WordNetLemmatizer\n",
        "from nltk.corpus import stopwords"
      ],
      "execution_count": 62,
      "outputs": []
    },
    {
      "cell_type": "code",
      "metadata": {
        "id": "21SbEG8jlB9s",
        "colab_type": "code",
        "colab": {}
      },
      "source": [
        "#lemmatizing the words\n",
        "lem = WordNetLemmatizer()\n",
        "sentences = nltk.sent_tokenize(paragraph)"
      ],
      "execution_count": 63,
      "outputs": []
    },
    {
      "cell_type": "code",
      "metadata": {
        "id": "rRUmLEailNJR",
        "colab_type": "code",
        "colab": {}
      },
      "source": [
        "#cleaning the data\n",
        "corpus = []\n",
        "for i in range(len(sentences)):\n",
        "  sentence = re.sub('[^a-zA-Z]', ' ', sentences[i])\n",
        "  sentence = sentence.lower()\n",
        "  words = sentence.split()\n",
        "  words = [ lem.lemmatize(word) for word in words if word not in set(stopwords.words('english')) ]\n",
        "  sent = ' '.join(words)\n",
        "  corpus.append(sent) "
      ],
      "execution_count": 64,
      "outputs": []
    },
    {
      "cell_type": "code",
      "metadata": {
        "id": "cV5Ufp_TlX0T",
        "colab_type": "code",
        "colab": {}
      },
      "source": [
        "#applying tfidf\n",
        "from sklearn.feature_extraction.text import TfidfVectorizer\n",
        "tfidf = TfidfVectorizer()\n",
        "X = tfidf.fit_transform(corpus).toarray()"
      ],
      "execution_count": 65,
      "outputs": []
    },
    {
      "cell_type": "code",
      "metadata": {
        "id": "0GrFIW5il3AW",
        "colab_type": "code",
        "colab": {
          "base_uri": "https://localhost:8080/",
          "height": 235
        },
        "outputId": "de755ede-d4b0-4a2d-a725-c6cf4e312577"
      },
      "source": [
        "X"
      ],
      "execution_count": 66,
      "outputs": [
        {
          "output_type": "execute_result",
          "data": {
            "text/plain": [
              "array([[0.        , 0.        , 0.        , ..., 0.        , 0.        ,\n",
              "        0.        ],\n",
              "       [0.44713121, 0.        , 0.        , ..., 0.        , 0.        ,\n",
              "        0.        ],\n",
              "       [0.        , 0.        , 0.        , ..., 0.        , 0.        ,\n",
              "        0.        ],\n",
              "       ...,\n",
              "       [0.13937131, 0.        , 0.        , ..., 0.        , 0.        ,\n",
              "        0.        ],\n",
              "       [0.1913438 , 0.        , 0.        , ..., 0.        , 0.        ,\n",
              "        0.        ],\n",
              "       [0.        , 0.        , 0.32526836, ..., 0.        , 0.        ,\n",
              "        0.        ]])"
            ]
          },
          "metadata": {
            "tags": []
          },
          "execution_count": 66
        }
      ]
    }
  ]
}